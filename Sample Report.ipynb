{
 "cells": [
  {
   "cell_type": "code",
   "execution_count": 457,
   "metadata": {
    "collapsed": true
   },
   "outputs": [],
   "source": [
    "import numpy as np\n",
    "import pandas as pd\n",
    "import seaborn as sb\n",
    "import matplotlib as mpl\n",
    "import matplotlib.pyplot as plt\n",
    "import time\n",
    "import datetime\n",
    "import random\n",
    "from matplotlib.backends.backend_pdf import PdfPages"
   ]
  },
  {
   "cell_type": "code",
   "execution_count": null,
   "metadata": {
    "collapsed": true
   },
   "outputs": [],
   "source": []
  },
  {
   "cell_type": "code",
   "execution_count": 458,
   "metadata": {},
   "outputs": [
    {
     "data": {
      "text/html": [
       "<div>\n",
       "<style>\n",
       "    .dataframe thead tr:only-child th {\n",
       "        text-align: right;\n",
       "    }\n",
       "\n",
       "    .dataframe thead th {\n",
       "        text-align: left;\n",
       "    }\n",
       "\n",
       "    .dataframe tbody tr th {\n",
       "        vertical-align: top;\n",
       "    }\n",
       "</style>\n",
       "<table border=\"1\" class=\"dataframe\">\n",
       "  <thead>\n",
       "    <tr style=\"text-align: right;\">\n",
       "      <th></th>\n",
       "      <th>Timestamp</th>\n",
       "      <th>ambientLight(lx)</th>\n",
       "      <th>co2</th>\n",
       "      <th>hallState</th>\n",
       "      <th>hallStrength</th>\n",
       "      <th>humidity(%)</th>\n",
       "      <th>pressure</th>\n",
       "      <th>sound</th>\n",
       "      <th>temperature(C)</th>\n",
       "      <th>uvIndex</th>\n",
       "      <th>voc</th>\n",
       "    </tr>\n",
       "  </thead>\n",
       "  <tbody>\n",
       "    <tr>\n",
       "      <th>0</th>\n",
       "      <td>1.522701e+09</td>\n",
       "      <td>13</td>\n",
       "      <td>0</td>\n",
       "      <td>1</td>\n",
       "      <td>-164</td>\n",
       "      <td>13</td>\n",
       "      <td>991.557007</td>\n",
       "      <td>0.000000</td>\n",
       "      <td>28.129999</td>\n",
       "      <td>0</td>\n",
       "      <td>0</td>\n",
       "    </tr>\n",
       "    <tr>\n",
       "      <th>1</th>\n",
       "      <td>1.522701e+09</td>\n",
       "      <td>13</td>\n",
       "      <td>0</td>\n",
       "      <td>1</td>\n",
       "      <td>-164</td>\n",
       "      <td>13</td>\n",
       "      <td>991.557007</td>\n",
       "      <td>0.000000</td>\n",
       "      <td>28.129999</td>\n",
       "      <td>0</td>\n",
       "      <td>0</td>\n",
       "    </tr>\n",
       "    <tr>\n",
       "      <th>2</th>\n",
       "      <td>1.522701e+09</td>\n",
       "      <td>13</td>\n",
       "      <td>0</td>\n",
       "      <td>1</td>\n",
       "      <td>-164</td>\n",
       "      <td>13</td>\n",
       "      <td>991.557007</td>\n",
       "      <td>0.000000</td>\n",
       "      <td>28.129999</td>\n",
       "      <td>0</td>\n",
       "      <td>0</td>\n",
       "    </tr>\n",
       "    <tr>\n",
       "      <th>3</th>\n",
       "      <td>1.522701e+09</td>\n",
       "      <td>13</td>\n",
       "      <td>0</td>\n",
       "      <td>1</td>\n",
       "      <td>-144</td>\n",
       "      <td>13</td>\n",
       "      <td>991.562012</td>\n",
       "      <td>65.739998</td>\n",
       "      <td>28.129999</td>\n",
       "      <td>0</td>\n",
       "      <td>0</td>\n",
       "    </tr>\n",
       "    <tr>\n",
       "      <th>4</th>\n",
       "      <td>1.522701e+09</td>\n",
       "      <td>13</td>\n",
       "      <td>0</td>\n",
       "      <td>1</td>\n",
       "      <td>-144</td>\n",
       "      <td>13</td>\n",
       "      <td>991.562012</td>\n",
       "      <td>65.739998</td>\n",
       "      <td>28.160000</td>\n",
       "      <td>0</td>\n",
       "      <td>0</td>\n",
       "    </tr>\n",
       "    <tr>\n",
       "      <th>5</th>\n",
       "      <td>1.522701e+09</td>\n",
       "      <td>13</td>\n",
       "      <td>0</td>\n",
       "      <td>1</td>\n",
       "      <td>-162</td>\n",
       "      <td>13</td>\n",
       "      <td>991.565979</td>\n",
       "      <td>31.059999</td>\n",
       "      <td>28.160000</td>\n",
       "      <td>0</td>\n",
       "      <td>0</td>\n",
       "    </tr>\n",
       "    <tr>\n",
       "      <th>6</th>\n",
       "      <td>1.522701e+09</td>\n",
       "      <td>13</td>\n",
       "      <td>0</td>\n",
       "      <td>1</td>\n",
       "      <td>-162</td>\n",
       "      <td>13</td>\n",
       "      <td>991.565979</td>\n",
       "      <td>31.059999</td>\n",
       "      <td>28.160000</td>\n",
       "      <td>0</td>\n",
       "      <td>0</td>\n",
       "    </tr>\n",
       "    <tr>\n",
       "      <th>7</th>\n",
       "      <td>1.522701e+09</td>\n",
       "      <td>13</td>\n",
       "      <td>0</td>\n",
       "      <td>1</td>\n",
       "      <td>-152</td>\n",
       "      <td>13</td>\n",
       "      <td>991.531006</td>\n",
       "      <td>28.900000</td>\n",
       "      <td>28.160000</td>\n",
       "      <td>0</td>\n",
       "      <td>0</td>\n",
       "    </tr>\n",
       "    <tr>\n",
       "      <th>8</th>\n",
       "      <td>1.522701e+09</td>\n",
       "      <td>13</td>\n",
       "      <td>0</td>\n",
       "      <td>1</td>\n",
       "      <td>-152</td>\n",
       "      <td>13</td>\n",
       "      <td>991.531006</td>\n",
       "      <td>28.900000</td>\n",
       "      <td>28.180000</td>\n",
       "      <td>0</td>\n",
       "      <td>0</td>\n",
       "    </tr>\n",
       "    <tr>\n",
       "      <th>9</th>\n",
       "      <td>1.522701e+09</td>\n",
       "      <td>13</td>\n",
       "      <td>0</td>\n",
       "      <td>1</td>\n",
       "      <td>-152</td>\n",
       "      <td>13</td>\n",
       "      <td>991.531006</td>\n",
       "      <td>28.600000</td>\n",
       "      <td>28.180000</td>\n",
       "      <td>0</td>\n",
       "      <td>0</td>\n",
       "    </tr>\n",
       "  </tbody>\n",
       "</table>\n",
       "</div>"
      ],
      "text/plain": [
       "      Timestamp  ambientLight(lx)  co2  hallState  hallStrength  humidity(%)  \\\n",
       "0  1.522701e+09                13    0          1          -164           13   \n",
       "1  1.522701e+09                13    0          1          -164           13   \n",
       "2  1.522701e+09                13    0          1          -164           13   \n",
       "3  1.522701e+09                13    0          1          -144           13   \n",
       "4  1.522701e+09                13    0          1          -144           13   \n",
       "5  1.522701e+09                13    0          1          -162           13   \n",
       "6  1.522701e+09                13    0          1          -162           13   \n",
       "7  1.522701e+09                13    0          1          -152           13   \n",
       "8  1.522701e+09                13    0          1          -152           13   \n",
       "9  1.522701e+09                13    0          1          -152           13   \n",
       "\n",
       "     pressure      sound  temperature(C)  uvIndex  voc  \n",
       "0  991.557007   0.000000       28.129999        0    0  \n",
       "1  991.557007   0.000000       28.129999        0    0  \n",
       "2  991.557007   0.000000       28.129999        0    0  \n",
       "3  991.562012  65.739998       28.129999        0    0  \n",
       "4  991.562012  65.739998       28.160000        0    0  \n",
       "5  991.565979  31.059999       28.160000        0    0  \n",
       "6  991.565979  31.059999       28.160000        0    0  \n",
       "7  991.531006  28.900000       28.160000        0    0  \n",
       "8  991.531006  28.900000       28.180000        0    0  \n",
       "9  991.531006  28.600000       28.180000        0    0  "
      ]
     },
     "execution_count": 458,
     "metadata": {},
     "output_type": "execute_result"
    }
   ],
   "source": [
    "enviDF = pd.read_csv('C:\\\\Users\\\\shiva\\\\Desktop\\\\Environmental Data\\\\Environment Data - April 2nd 2018 at 3_22_20 pm.csv')\n",
    "enviDF[\"Timestamp\"] = enviDF[\"Timestamp\"] / 1000\n",
    "enviDF.head(10)"
   ]
  },
  {
   "cell_type": "code",
   "execution_count": 459,
   "metadata": {},
   "outputs": [
    {
     "data": {
      "text/plain": [
       "44"
      ]
     },
     "execution_count": 459,
     "metadata": {},
     "output_type": "execute_result"
    }
   ],
   "source": [
    "report = open(\"report.txt\", \"w+\")\n",
    "patientID = random.randint(100000,1000001)\n",
    "report.write(\"===========Report for Patient #%d at %s===============\\n\" % (patientID, time.strftime(\"%c\")))\n",
    "\n",
    "startDate = time.strftime(\"%a %d %b %Y %H:%M:%S GMT\", time.gmtime(enviDF[\"Timestamp\"].head(1)))\n",
    "report.write(\"Stream Start: %s\\n\" % startDate)\n",
    "\n",
    "endDate = time.strftime(\"%a %d %b %Y %H:%M:%S GMT\", time.gmtime(enviDF[\"Timestamp\"].tail(1)))\n",
    "report.write(\"Stream Start: %s\\n\\n\" % endDate)"
   ]
  },
  {
   "cell_type": "code",
   "execution_count": 460,
   "metadata": {},
   "outputs": [],
   "source": [
    "#Light Levels\n",
    "report.write(\"-----Light Level-----\\n\")\n",
    "minLight = enviDF[\"ambientLight(lx)\"].min()\n",
    "maxLight = enviDF[\"ambientLight(lx)\"].max()\n",
    "averageLight = enviDF[\"ambientLight(lx)\"].mean()\n",
    "report.write(\"Minimum Light Level: %d lx\\n\" % minLight)\n",
    "report.write(\"Average Light Level: %d lx\\n\" % averageLight)\n",
    "report.write(\"Maximum Light Level: %d lx\\n\\n\" % maxLight)\n",
    "\n",
    "%matplotlib inline\n",
    "#plt.style.use('classic')\n",
    "#plt.xlabel(\"Ambient Light Levels (lx)\")\n",
    "#plt.ylabel(\"# of occurances\")\n",
    "#plt.title(\"Histogram of Ambient Light\")\n",
    "#plt.hist(enviDF['ambientLight(lx)'])\n",
    "\n",
    "\n",
    "\n",
    "#ax = sb.regplot(enviDF[\"Timestamp\"],enviDF[\"ambientLight(lx)\"], data = enviDF)"
   ]
  },
  {
   "cell_type": "code",
   "execution_count": 461,
   "metadata": {},
   "outputs": [
    {
     "data": {
      "text/plain": [
       "28"
      ]
     },
     "execution_count": 461,
     "metadata": {},
     "output_type": "execute_result"
    }
   ],
   "source": [
    "#CO2 Levels\n",
    "report.write(\"-----CO2 Level-----\\n\")\n",
    "minCo2 = enviDF[\"co2\"].min()\n",
    "maxCo2 = enviDF[\"co2\"].max()\n",
    "averageCo2 = enviDF[\"co2\"].mean()\n",
    "report.write(\"Minimum CO2 Level: %d ppm\\n\" % minCo2)\n",
    "report.write(\"Average CO2 Level: %d ppm\\n\" % averageCo2)\n",
    "report.write(\"Maximum CO2 Level: %d ppm\\n\\n\" % maxCo2)"
   ]
  },
  {
   "cell_type": "code",
   "execution_count": 462,
   "metadata": {},
   "outputs": [
    {
     "data": {
      "text/plain": [
       "28"
      ]
     },
     "execution_count": 462,
     "metadata": {},
     "output_type": "execute_result"
    }
   ],
   "source": [
    "#Humidity Levels\n",
    "report.write(\"-----Humidity Level-----\\n\")\n",
    "minHumid = enviDF[\"humidity(%)\"].min()\n",
    "maxHumid = enviDF[\"humidity(%)\"].max()\n",
    "averageHumid = enviDF[\"humidity(%)\"].mean()\n",
    "report.write(\"Minimum Humidity Level: %d%%\\n\" % minHumid)\n",
    "report.write(\"Average Humidty Level: %d%%\\n\" % averageHumid)\n",
    "report.write(\"Maximum Humidty Level: %d%%\\n\\n\" % maxHumid)"
   ]
  },
  {
   "cell_type": "code",
   "execution_count": 463,
   "metadata": {},
   "outputs": [
    {
     "data": {
      "text/plain": [
       "33"
      ]
     },
     "execution_count": 463,
     "metadata": {},
     "output_type": "execute_result"
    }
   ],
   "source": [
    "#Temperature Levels\n",
    "report.write(\"-----Temperature Level-----\\n\")\n",
    "minTemp = enviDF[\"temperature(C)\"].min()\n",
    "maxTemp = enviDF[\"temperature(C)\"].max()\n",
    "averageTemp = enviDF[\"temperature(C)\"].mean()\n",
    "report.write(\"Minimum Temperature Level: %d C\\n\" % minTemp)\n",
    "report.write(\"Average Temperature Level: %d C\\n\" % averageTemp)\n",
    "report.write(\"Maximum Temperature Level: %d C\\n\\n\" % maxTemp)"
   ]
  },
  {
   "cell_type": "code",
   "execution_count": 464,
   "metadata": {},
   "outputs": [
    {
     "data": {
      "text/plain": [
       "28"
      ]
     },
     "execution_count": 464,
     "metadata": {},
     "output_type": "execute_result"
    }
   ],
   "source": [
    "#Sound Levels\n",
    "report.write(\"-----Sound Level-----\\n\")\n",
    "minSound = enviDF[\"sound\"].min()\n",
    "maxSound = enviDF[\"sound\"].max()\n",
    "averageSound = enviDF[\"sound\"].mean()\n",
    "report.write(\"Minimum Sound Level: %d db\\n\" % minSound)\n",
    "report.write(\"Average Sound Level: %d db\\n\" % maxSound)\n",
    "report.write(\"Maximum Sound Level: %d db\\n\\n\" % averageSound)"
   ]
  },
  {
   "cell_type": "code",
   "execution_count": null,
   "metadata": {
    "collapsed": true
   },
   "outputs": [],
   "source": []
  },
  {
   "cell_type": "code",
   "execution_count": 465,
   "metadata": {
    "collapsed": true
   },
   "outputs": [],
   "source": [
    "report.close()"
   ]
  },
  {
   "cell_type": "code",
   "execution_count": null,
   "metadata": {
    "collapsed": true
   },
   "outputs": [],
   "source": []
  },
  {
   "cell_type": "code",
   "execution_count": null,
   "metadata": {
    "collapsed": true
   },
   "outputs": [],
   "source": []
  }
 ],
 "metadata": {
  "kernelspec": {
   "display_name": "Python 3",
   "language": "python",
   "name": "python3"
  },
  "language_info": {
   "codemirror_mode": {
    "name": "ipython",
    "version": 3
   },
   "file_extension": ".py",
   "mimetype": "text/x-python",
   "name": "python",
   "nbconvert_exporter": "python",
   "pygments_lexer": "ipython3",
   "version": "3.6.3"
  }
 },
 "nbformat": 4,
 "nbformat_minor": 2
}
